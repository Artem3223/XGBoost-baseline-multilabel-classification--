{
 "cells": [
  {
   "cell_type": "code",
   "execution_count": 1,
   "metadata": {
    "_cell_guid": "b1076dfc-b9ad-4769-8c92-a6c4dae69d19",
    "_uuid": "8f2839f25d086af736a60e9eeb907d3b93b6e0e5",
    "execution": {
     "iopub.execute_input": "2020-09-10T09:05:35.486401Z",
     "iopub.status.busy": "2020-09-10T09:05:35.485652Z",
     "iopub.status.idle": "2020-09-10T09:05:37.336332Z",
     "shell.execute_reply": "2020-09-10T09:05:37.335700Z"
    },
    "papermill": {
     "duration": 1.863626,
     "end_time": "2020-09-10T09:05:37.336454",
     "exception": false,
     "start_time": "2020-09-10T09:05:35.472828",
     "status": "completed"
    },
    "tags": []
   },
   "outputs": [],
   "source": [
    "import numpy as np # linear algebra\n",
    "import pandas as pd # data processing, CSV file I/O (e.g. pd.read_csv)\n",
    "\n",
    "from xgboost import XGBClassifier\n",
    "from sklearn.model_selection import KFold\n",
    "from category_encoders import CountEncoder\n",
    "from sklearn.pipeline import Pipeline\n",
    "from sklearn.metrics import log_loss\n",
    "\n",
    "import matplotlib.pyplot as plt\n",
    "\n",
    "from sklearn.multioutput import MultiOutputClassifier\n",
    "\n",
    "import os\n",
    "import warnings\n",
    "warnings.filterwarnings('ignore')"
   ]
  },
  {
   "cell_type": "markdown",
   "execution_count": null,
   "metadata": {
    "papermill": {
     "duration": 0.004808,
     "end_time": "2020-09-10T09:05:37.347033",
     "exception": false,
     "start_time": "2020-09-10T09:05:37.342225",
     "status": "completed"
    },
    "tags": []
   },
   "source": [
    "# Framing as a binary classification problem\n",
    "\n",
    "In this notebook I create a baseline model using XGBoost and framing the problem as a n-binary classification problems (where n=206 and is the total number of classes). I make use of the [MultiOutputClassifier](https://scikit-learn.org/stable/modules/generated/sklearn.multioutput.MultiOutputClassifier.html#sklearn.multioutput.MultiOutputClassifier) wrapper in sklearn.\n",
    "\n",
    "This has the advantages that :\n",
    "- You can use models capable only of binary classification\n",
    "- It is easy to implement\n",
    "\n",
    "But has the disadvantages that:\n",
    "- You lose any correlation between labels which could be useful to the model\n",
    "- You need to train *n* models and is therefore slow\n",
    "\n",
    "\n",
    "\n",
    "Updates (started version 9)\n",
    "- v9: \n",
    "    - dropped ctl_vehicle instances in-fold, kept in validation \n"
   ]
  },
  {
   "cell_type": "code",
   "execution_count": 2,
   "metadata": {
    "execution": {
     "iopub.execute_input": "2020-09-10T09:05:37.361263Z",
     "iopub.status.busy": "2020-09-10T09:05:37.360630Z",
     "iopub.status.idle": "2020-09-10T09:05:37.365043Z",
     "shell.execute_reply": "2020-09-10T09:05:37.364484Z"
    },
    "papermill": {
     "duration": 0.013528,
     "end_time": "2020-09-10T09:05:37.365165",
     "exception": false,
     "start_time": "2020-09-10T09:05:37.351637",
     "status": "completed"
    },
    "tags": []
   },
   "outputs": [],
   "source": [
    "SEED = 42\n",
    "NFOLDS = 5\n",
    "DATA_DIR = '/kaggle/input/lish-moa/'\n",
    "np.random.seed(SEED)"
   ]
  },
  {
   "cell_type": "code",
   "execution_count": 3,
   "metadata": {
    "_cell_guid": "79c7e3d0-c299-4dcb-8224-4455121ee9b0",
    "_uuid": "d629ff2d2480ee46fbb7e2d37f6b5fab8052498a",
    "execution": {
     "iopub.execute_input": "2020-09-10T09:05:37.384769Z",
     "iopub.status.busy": "2020-09-10T09:05:37.384088Z",
     "iopub.status.idle": "2020-09-10T09:05:44.646539Z",
     "shell.execute_reply": "2020-09-10T09:05:44.645865Z"
    },
    "papermill": {
     "duration": 7.276768,
     "end_time": "2020-09-10T09:05:44.646665",
     "exception": false,
     "start_time": "2020-09-10T09:05:37.369897",
     "status": "completed"
    },
    "tags": []
   },
   "outputs": [],
   "source": [
    "train = pd.read_csv(DATA_DIR + 'train_features.csv')\n",
    "targets = pd.read_csv(DATA_DIR + 'train_targets_scored.csv')\n",
    "\n",
    "test = pd.read_csv(DATA_DIR + 'test_features.csv')\n",
    "sub = pd.read_csv(DATA_DIR + 'sample_submission.csv')\n",
    "\n",
    "# drop id col\n",
    "X = train.iloc[:,1:].to_numpy()\n",
    "X_test = test.iloc[:,1:].to_numpy()\n",
    "y = targets.iloc[:,1:].to_numpy() "
   ]
  },
  {
   "cell_type": "code",
   "execution_count": 4,
   "metadata": {
    "execution": {
     "iopub.execute_input": "2020-09-10T09:05:44.666017Z",
     "iopub.status.busy": "2020-09-10T09:05:44.663977Z",
     "iopub.status.idle": "2020-09-10T09:05:44.666842Z",
     "shell.execute_reply": "2020-09-10T09:05:44.667386Z"
    },
    "papermill": {
     "duration": 0.014017,
     "end_time": "2020-09-10T09:05:44.667510",
     "exception": false,
     "start_time": "2020-09-10T09:05:44.653493",
     "status": "completed"
    },
    "tags": []
   },
   "outputs": [],
   "source": [
    "classifier = MultiOutputClassifier(XGBClassifier(tree_method='gpu_hist'))\n",
    "\n",
    "clf = Pipeline([('encode', CountEncoder(cols=[0, 2])),\n",
    "                ('classify', classifier)\n",
    "               ])"
   ]
  },
  {
   "cell_type": "code",
   "execution_count": 5,
   "metadata": {
    "execution": {
     "iopub.execute_input": "2020-09-10T09:05:44.684090Z",
     "iopub.status.busy": "2020-09-10T09:05:44.683439Z",
     "iopub.status.idle": "2020-09-10T09:05:44.688143Z",
     "shell.execute_reply": "2020-09-10T09:05:44.687627Z"
    },
    "papermill": {
     "duration": 0.015614,
     "end_time": "2020-09-10T09:05:44.688254",
     "exception": false,
     "start_time": "2020-09-10T09:05:44.672640",
     "status": "completed"
    },
    "tags": []
   },
   "outputs": [],
   "source": [
    "params = {'classify__estimator__colsample_bytree': 0.6522,\n",
    "          'classify__estimator__gamma': 3.6975,\n",
    "          'classify__estimator__learning_rate': 0.0503,\n",
    "          'classify__estimator__max_delta_step': 2.0706,\n",
    "          'classify__estimator__max_depth': 10,\n",
    "          'classify__estimator__min_child_weight': 31.5800,\n",
    "          'classify__estimator__n_estimators': 166,\n",
    "          'classify__estimator__subsample': 0.8639\n",
    "         }\n",
    "\n",
    "_ = clf.set_params(**params)"
   ]
  },
  {
   "cell_type": "markdown",
   "execution_count": null,
   "metadata": {
    "papermill": {
     "duration": 0.004553,
     "end_time": "2020-09-10T09:05:44.698010",
     "exception": false,
     "start_time": "2020-09-10T09:05:44.693457",
     "status": "completed"
    },
    "tags": []
   },
   "source": [
    "\n",
    "## Train the model\n",
    "\n",
    "Framing this problem as a binary classification problem has the disadvantage that you need to train as many models as you have classes. For this problem this means training 206 models per fold, for the large number of features included in this dataset this may take a long time..."
   ]
  },
  {
   "cell_type": "code",
   "execution_count": 6,
   "metadata": {
    "execution": {
     "iopub.execute_input": "2020-09-10T09:05:44.720875Z",
     "iopub.status.busy": "2020-09-10T09:05:44.715711Z",
     "iopub.status.idle": "2020-09-10T09:30:28.843036Z",
     "shell.execute_reply": "2020-09-10T09:30:28.843653Z"
    },
    "papermill": {
     "duration": 1484.140675,
     "end_time": "2020-09-10T09:30:28.843836",
     "exception": false,
     "start_time": "2020-09-10T09:05:44.703161",
     "status": "completed"
    },
    "tags": []
   },
   "outputs": [
    {
     "name": "stdout",
     "output_type": "stream",
     "text": [
      "Starting fold:  0\n",
      "Starting fold:  1\n",
      "Starting fold:  2\n",
      "Starting fold:  3\n",
      "Starting fold:  4\n",
      "[0.0169781773377249, 0.01704491710861325, 0.016865153552168475, 0.01700900926983899, 0.01717882474706338]\n",
      "Mean OOF loss across folds 0.017015216403081797\n",
      "STD OOF loss across folds 0.00010156682747757948\n"
     ]
    }
   ],
   "source": [
    "oof_preds = np.zeros(y.shape)\n",
    "test_preds = np.zeros((test.shape[0], y.shape[1]))\n",
    "oof_losses = []\n",
    "kf = KFold(n_splits=NFOLDS)\n",
    "for fn, (trn_idx, val_idx) in enumerate(kf.split(X, y)):\n",
    "    print('Starting fold: ', fn)\n",
    "    X_train, X_val = X[trn_idx], X[val_idx]\n",
    "    y_train, y_val = y[trn_idx], y[val_idx]\n",
    "    \n",
    "    # drop where cp_type==ctl_vehicle (baseline)\n",
    "    ctl_mask = X_train[:,0]=='ctl_vehicle'\n",
    "    X_train = X_train[~ctl_mask,:]\n",
    "    y_train = y_train[~ctl_mask]\n",
    "    \n",
    "    clf.fit(X_train, y_train)\n",
    "    val_preds = clf.predict_proba(X_val) # list of preds per class\n",
    "    val_preds = np.array(val_preds)[:,:,1].T # take the positive class\n",
    "    oof_preds[val_idx] = val_preds\n",
    "    \n",
    "    loss = log_loss(np.ravel(y_val), np.ravel(val_preds))\n",
    "    oof_losses.append(loss)\n",
    "    preds = clf.predict_proba(X_test)\n",
    "    preds = np.array(preds)[:,:,1].T # take the positive class\n",
    "    test_preds += preds / NFOLDS\n",
    "    \n",
    "print(oof_losses)\n",
    "print('Mean OOF loss across folds', np.mean(oof_losses))\n",
    "print('STD OOF loss across folds', np.std(oof_losses))"
   ]
  },
  {
   "cell_type": "code",
   "execution_count": 7,
   "metadata": {
    "execution": {
     "iopub.execute_input": "2020-09-10T09:30:28.867863Z",
     "iopub.status.busy": "2020-09-10T09:30:28.867138Z",
     "iopub.status.idle": "2020-09-10T09:30:30.057998Z",
     "shell.execute_reply": "2020-09-10T09:30:30.059293Z"
    },
    "papermill": {
     "duration": 1.208856,
     "end_time": "2020-09-10T09:30:30.059505",
     "exception": false,
     "start_time": "2020-09-10T09:30:28.850649",
     "status": "completed"
    },
    "tags": []
   },
   "outputs": [
    {
     "name": "stdout",
     "output_type": "stream",
     "text": [
      "OOF log loss:  0.0167240932391125\n"
     ]
    }
   ],
   "source": [
    "# set control train preds to 0\n",
    "control_mask = train['cp_type']=='ctl_vehicle'\n",
    "oof_preds[control_mask] = 0\n",
    "\n",
    "print('OOF log loss: ', log_loss(np.ravel(y), np.ravel(oof_preds)))"
   ]
  },
  {
   "cell_type": "markdown",
   "execution_count": null,
   "metadata": {
    "papermill": {
     "duration": 0.005502,
     "end_time": "2020-09-10T09:30:30.072963",
     "exception": false,
     "start_time": "2020-09-10T09:30:30.067461",
     "status": "completed"
    },
    "tags": []
   },
   "source": [
    "## Analysis of OOF preds\n"
   ]
  },
  {
   "cell_type": "code",
   "execution_count": 8,
   "metadata": {
    "execution": {
     "iopub.execute_input": "2020-09-10T09:30:30.090002Z",
     "iopub.status.busy": "2020-09-10T09:30:30.089102Z",
     "iopub.status.idle": "2020-09-10T09:30:30.093130Z",
     "shell.execute_reply": "2020-09-10T09:30:30.093629Z"
    },
    "papermill": {
     "duration": 0.015256,
     "end_time": "2020-09-10T09:30:30.093753",
     "exception": false,
     "start_time": "2020-09-10T09:30:30.078497",
     "status": "completed"
    },
    "tags": []
   },
   "outputs": [],
   "source": [
    "# set control test preds to 0\n",
    "control_mask = test['cp_type']=='ctl_vehicle'\n",
    "\n",
    "test_preds[control_mask] = 0"
   ]
  },
  {
   "cell_type": "code",
   "execution_count": 9,
   "metadata": {
    "execution": {
     "iopub.execute_input": "2020-09-10T09:30:30.110946Z",
     "iopub.status.busy": "2020-09-10T09:30:30.110032Z",
     "iopub.status.idle": "2020-09-10T09:30:32.547026Z",
     "shell.execute_reply": "2020-09-10T09:30:32.545917Z"
    },
    "papermill": {
     "duration": 2.447624,
     "end_time": "2020-09-10T09:30:32.547179",
     "exception": false,
     "start_time": "2020-09-10T09:30:30.099555",
     "status": "completed"
    },
    "tags": []
   },
   "outputs": [],
   "source": [
    "# create the submission file\n",
    "sub.iloc[:,1:] = test_preds\n",
    "sub.to_csv('submission.csv', index=False)"
   ]
  }
 ],
 "metadata": {
  "kernelspec": {
   "display_name": "Python 3",
   "language": "python",
   "name": "python3"
  },
  "language_info": {
   "codemirror_mode": {
    "name": "ipython",
    "version": 3
   },
   "file_extension": ".py",
   "mimetype": "text/x-python",
   "name": "python",
   "nbconvert_exporter": "python",
   "pygments_lexer": "ipython3",
   "version": "3.7.6"
  },
  "papermill": {
   "duration": 1502.183208,
   "end_time": "2020-09-10T09:30:33.658747",
   "environment_variables": {},
   "exception": null,
   "input_path": "__notebook__.ipynb",
   "output_path": "__notebook__.ipynb",
   "parameters": {},
   "start_time": "2020-09-10T09:05:31.475539",
   "version": "2.1.0"
  }
 },
 "nbformat": 4,
 "nbformat_minor": 4
}
